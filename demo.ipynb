{
 "cells": [
  {
   "cell_type": "markdown",
   "metadata": {},
   "source": [
    "# 1. string.replace()"
   ]
  },
  {
   "cell_type": "markdown",
   "metadata": {},
   "source": [
    "## 範例1:\n",
    "\n",
    "## 寫一個程式讓使用者輸入一段文字及一個切割用符號，程式會依指定的符號切割成數字子字串"
   ]
  },
  {
   "cell_type": "code",
   "execution_count": 3,
   "metadata": {},
   "outputs": [
    {
     "name": "stdout",
     "output_type": "stream",
     "text": [
      "1\n",
      "2\n",
      "3\n"
     ]
    }
   ],
   "source": [
    "str1, ch = input().split()\n",
    "print(str1.replace(ch, \"\\n\"))"
   ]
  },
  {
   "cell_type": "markdown",
   "metadata": {},
   "source": [
    "## 範例2:\n",
    "\n",
    "## 寫一個程式將字串中同樣的字以另一個字替換掉"
   ]
  },
  {
   "cell_type": "code",
   "execution_count": 4,
   "metadata": {},
   "outputs": [
    {
     "name": "stdout",
     "output_type": "stream",
     "text": [
      "1e2e3e\n"
     ]
    }
   ],
   "source": [
    "str1 = input()\n",
    "ch_re = input()\n",
    "ch_new = input()\n",
    "print(str1.replace(ch_re, ch_new))"
   ]
  },
  {
   "cell_type": "markdown",
   "metadata": {},
   "source": [
    "# 2. string.lower\n",
    "\n",
    "## 範例:\n",
    "\n",
    "## 寫一個程式讓使用者輸入一段文字 ( String ) ，程式會把文字串所有的字母不管大小寫全部變成小寫字母顯示"
   ]
  },
  {
   "cell_type": "code",
   "execution_count": 5,
   "metadata": {},
   "outputs": [
    {
     "name": "stdout",
     "output_type": "stream",
     "text": [
      "abc\n"
     ]
    }
   ],
   "source": [
    "str1 = input()\n",
    "print(str1.lower())"
   ]
  },
  {
   "cell_type": "markdown",
   "metadata": {},
   "source": [
    "## 1. ord()\n",
    "\n",
    "## 使用 ord() 函式，也可以輸出 ASCII 碼"
   ]
  },
  {
   "cell_type": "code",
   "execution_count": 6,
   "metadata": {},
   "outputs": [
    {
     "name": "stdout",
     "output_type": "stream",
     "text": [
      "65\n"
     ]
    }
   ],
   "source": [
    "str1 = input()\n",
    "print(ord(str1))"
   ]
  },
  {
   "cell_type": "markdown",
   "metadata": {},
   "source": [
    "# 4. 萬國碼 ( Unicode )\n",
    "\n",
    "## 由於電腦在世界中越來越普及，於是國際間制定了萬國碼來收錄各國的字體\n",
    "\n",
    "## 1. string.encode()"
   ]
  },
  {
   "cell_type": "code",
   "execution_count": 7,
   "metadata": {},
   "outputs": [
    {
     "name": "stdout",
     "output_type": "stream",
     "text": [
      "b'\\\\u96c5'\n"
     ]
    }
   ],
   "source": [
    "str1 = input()\n",
    "print(str1.encode(\"unicode_escape\"))"
   ]
  },
  {
   "cell_type": "markdown",
   "metadata": {},
   "source": [
    "## 2. string.decode()\n",
    "\n",
    "## 範例:\n",
    "\n",
    "## 輸入一段萬國碼，將其轉換為中文字"
   ]
  },
  {
   "cell_type": "code",
   "execution_count": 8,
   "metadata": {},
   "outputs": [
    {
     "name": "stdout",
     "output_type": "stream",
     "text": [
      "資\n"
     ]
    }
   ],
   "source": [
    "str1 = input().encode()\n",
    "print(str1.decode(\"unicode-escape\"))"
   ]
  },
  {
   "cell_type": "markdown",
   "metadata": {},
   "source": [
    "# 5. str.isupper() and strislower()\n",
    "\n",
    "## 使用這類函式時，會去檢測 () 裡的字母是否為大小寫，並輸出 true or false"
   ]
  },
  {
   "cell_type": "code",
   "execution_count": 9,
   "metadata": {},
   "outputs": [
    {
     "name": "stdout",
     "output_type": "stream",
     "text": [
      "lowercase\n"
     ]
    }
   ],
   "source": [
    "x = input()\n",
    "\n",
    "if str.isupper(x):\n",
    "    print(\"uppercase\")\n",
    "elif str.islower(x):\n",
    "    print(\"lowercase\")\n",
    "else:\n",
    "    print(\"special character\")"
   ]
  },
  {
   "cell_type": "markdown",
   "metadata": {},
   "source": [
    "## 範例:\n",
    "\n",
    "## 輸入一個字元，轉換其大小寫輸出"
   ]
  },
  {
   "cell_type": "code",
   "execution_count": 10,
   "metadata": {},
   "outputs": [
    {
     "name": "stdout",
     "output_type": "stream",
     "text": [
      "a\n"
     ]
    }
   ],
   "source": [
    "x = input()\n",
    "\n",
    "if str.isupper(x):\n",
    "    print(x.lower())\n",
    "elif str.islower(x):\n",
    "    print(x.upper())"
   ]
  }
 ],
 "metadata": {
  "kernelspec": {
   "display_name": "Python 3.10.6 64-bit",
   "language": "python",
   "name": "python3"
  },
  "language_info": {
   "codemirror_mode": {
    "name": "ipython",
    "version": 3
   },
   "file_extension": ".py",
   "mimetype": "text/x-python",
   "name": "python",
   "nbconvert_exporter": "python",
   "pygments_lexer": "ipython3",
   "version": "3.10.6"
  },
  "orig_nbformat": 4,
  "vscode": {
   "interpreter": {
    "hash": "fb4569285eef3a3450cb62085a5b1e0da4bce0af555edc33dcf29baf3acc1368"
   }
  }
 },
 "nbformat": 4,
 "nbformat_minor": 2
}
